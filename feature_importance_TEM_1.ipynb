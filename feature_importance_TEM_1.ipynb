{
  "cells": [
    {
      "cell_type": "code",
      "execution_count": null,
      "metadata": {
        "id": "T2xhsvpxjWi-"
      },
      "outputs": [],
      "source": [
        "from sklearn.model_selection import cross_val_score\n",
        "from sklearn.model_selection import cross_val_score\n",
        "from sklearn.metrics import make_scorer, r2_score\n",
        "import matplotlib.pyplot as plt\n",
        "from sklearn.ensemble import RandomForestRegressor\n",
        "from sklearn.metrics import r2_score\n",
        "from sklearn.model_selection import cross_val_predict\n",
        "import matplotlib.pyplot as plt\n"
      ]
    },
    {
      "cell_type": "code",
      "execution_count": null,
      "metadata": {
        "colab": {
          "background_save": true,
          "base_uri": "https://localhost:8080/"
        },
        "id": "EoNu1OWYdITw",
        "outputId": "1cee06e7-0ce7-4bf8-bb0a-7a0f0008554c"
      },
      "outputs": [
        {
          "name": "stdout",
          "output_type": "stream",
          "text": [
            "      GROUP   TYPE    A:26-psi    A:26-phi    A:27-psi   A:27-phi   A:28-psi  \\\n",
            "0         S  E104K  127.241354  -75.098540  -62.650572 -39.722024 -37.874813   \n",
            "1         S  E104K  132.861109  -98.560522  -31.851220 -48.659923 -25.162496   \n",
            "2         S  E104K  120.901924  -80.540634  -19.461292 -66.487818 -21.550063   \n",
            "3         S  E104K  131.474034  -81.987868  -39.636361 -45.751893 -28.405002   \n",
            "4         S  E104K  121.479745  -78.573936  -33.628473 -57.704813 -41.583794   \n",
            "...     ...    ...         ...         ...         ...        ...        ...   \n",
            "69995     S     WT  153.478999 -133.998705  133.417426 -65.598156  -2.364675   \n",
            "69996     S     WT  153.820019 -120.422637  115.354125 -70.821374 -10.729115   \n",
            "69997     S     WT  137.376687  -77.096703  -33.897390 -72.428754 -32.098487   \n",
            "69998     S     WT  126.051259  -44.949237  -28.187224 -69.207144 -25.048866   \n",
            "69999     S     WT  112.781801  -76.927670  -22.084983 -57.454099 -26.028836   \n",
            "\n",
            "         A:28-phi   A:29-psi   A:29-phi  ...  A:288-psi  A:288-phi  A:289-psi  \\\n",
            "0      -54.501196 -38.441179 -70.173272  ... -42.232946 -76.601867  -5.254314   \n",
            "1      -87.842367 -48.720810 -73.434776  ... -34.467954 -58.200923   7.630591   \n",
            "2      -87.829354 -45.528962 -99.156755  ... -32.973269 -67.544446  19.192175   \n",
            "3      -82.653637 -49.450559 -68.876239  ... -29.223820 -66.087998  -6.896186   \n",
            "4      -79.831993 -42.332516 -55.699266  ... -25.200752 -87.571801   8.866774   \n",
            "...           ...        ...        ...  ...        ...        ...        ...   \n",
            "69995 -111.019886 -32.110990 -81.037576  ... -43.104136 -56.933196 -51.110953   \n",
            "69996 -100.974030 -24.326717 -69.533473  ... -37.767587 -72.779903 -48.875051   \n",
            "69997  -86.307521 -27.961043 -63.983737  ... -36.682760 -76.019214 -15.381721   \n",
            "69998  -88.327296 -28.696958 -73.314787  ... -28.439243 -73.395320  -2.602290   \n",
            "69999 -104.411980 -37.368410 -62.449256  ... -28.764388 -61.784131 -10.942207   \n",
            "\n",
            "        A:289-phi  A:290-psi  A:290-phi  Unnamed: 528  Unnamed: 529  \\\n",
            "0      -76.729620 -50.308832 -50.538560           NaN           NaN   \n",
            "1      -99.384918 -72.304710 -51.194254           NaN           NaN   \n",
            "2     -102.556254 -54.940543 -58.320728           NaN           NaN   \n",
            "3     -106.037919 -39.870447 -53.396135           NaN           NaN   \n",
            "4      -95.774294 -30.168019 -66.619485           NaN           NaN   \n",
            "...           ...        ...        ...           ...           ...   \n",
            "69995  -52.375794 -58.545223 -62.373688           NaN           NaN   \n",
            "69996  -55.002847 -41.511846 -79.255051           NaN           NaN   \n",
            "69997  -70.828172 -48.968837 -78.758733           NaN           NaN   \n",
            "69998  -89.138925 -47.520222 -79.656946           NaN           NaN   \n",
            "69999  -80.366013 -47.213218 -98.577633           NaN           NaN   \n",
            "\n",
            "       Unnamed: 530  Unnamed: 531  \n",
            "0               NaN           NaN  \n",
            "1               NaN           NaN  \n",
            "2               NaN           NaN  \n",
            "3               NaN           NaN  \n",
            "4               NaN           NaN  \n",
            "...             ...           ...  \n",
            "69995           NaN           NaN  \n",
            "69996           NaN           NaN  \n",
            "69997           NaN           NaN  \n",
            "69998           NaN           NaN  \n",
            "69999           NaN           NaN  \n",
            "\n",
            "[70000 rows x 532 columns]\n"
          ]
        }
      ],
      "source": [
        "import pandas as pd\n",
        "from sklearn.ensemble import RandomForestClassifier\n",
        "from sklearn.decomposition import PCA\n",
        "from sklearn.model_selection import train_test_split\n",
        "import matplotlib.pyplot as plt\n",
        "import pandas as pd\n",
        "import numpy as np\n",
        "from scipy.spatial import distance\n",
        "from scipy.spatial.distance import euclidean\n",
        "\n",
        "# Load data from Excel file\n",
        "data = pd.read_excel('/content/drive/MyDrive/roshan/TEM-1/WT_R_S.xlsx')\n",
        "print(data)"
      ]
    },
    {
      "cell_type": "code",
      "execution_count": null,
      "metadata": {
        "colab": {
          "background_save": true
        },
        "id": "FYQafJFXgHlq"
      },
      "outputs": [],
      "source": [
        "# Map 'S' and 'R' to numerical values for the target variable\n",
        "data['GROUP'] = data['GROUP'].map({'S': 0, 'R': 1})"
      ]
    },
    {
      "cell_type": "code",
      "execution_count": null,
      "metadata": {
        "colab": {
          "background_save": true
        },
        "id": "1QMdSQy7gKLU"
      },
      "outputs": [],
      "source": [
        "# Split the data into features (X) and target variable (y)\n",
        "X = data.drop(['GROUP', 'TYPE'], axis=1)\n",
        "X = X.iloc[:, :-4]\n",
        "y = data['GROUP']"
      ]
    },
    {
      "cell_type": "code",
      "execution_count": null,
      "metadata": {
        "colab": {
          "background_save": true,
          "base_uri": "https://localhost:8080/"
        },
        "id": "g8OFYfqDhMxS",
        "outputId": "f8d935a2-2db0-48f0-eee8-89ca871892fd"
      },
      "outputs": [
        {
          "name": "stdout",
          "output_type": "stream",
          "text": [
            "   A:26-psi  A:26-phi  A:27-psi  A:27-phi  A:28-psi  A:28-phi  A:29-psi  \\\n",
            "0  0.853450  0.290814  0.326072  0.389339  0.396350  0.354144  0.664139   \n",
            "1  0.869060  0.225552  0.411661  0.364491  0.431928  0.259969  0.596379   \n",
            "2  0.835840  0.275676  0.446091  0.314928  0.442038  0.260005  0.617419   \n",
            "3  0.865207  0.271651  0.390027  0.372576  0.422853  0.274625  0.591569   \n",
            "4  0.837445  0.281147  0.406722  0.339346  0.385970  0.282595  0.638488   \n",
            "\n",
            "   A:29-phi  A:30-psi  A:30-phi  ...  A:286-psi  A:286-phi  A:287-psi  \\\n",
            "0  0.542730  0.596728  0.320386  ...   0.556046   0.361792   0.492823   \n",
            "1  0.526030  0.658471  0.376523  ...   0.515322   0.373419   0.495446   \n",
            "2  0.394325  0.635102  0.448278  ...   0.592771   0.326014   0.529994   \n",
            "3  0.549371  0.585059  0.419625  ...   0.575260   0.339348   0.581841   \n",
            "4  0.616842  0.566553  0.386201  ...   0.595311   0.301244   0.583424   \n",
            "\n",
            "   A:287-phi  A:288-psi  A:288-phi  A:289-psi  A:289-phi  A:290-psi  A:290-phi  \n",
            "0   0.544998   0.499646   0.408973   0.603408   0.289080   0.360224   0.359643  \n",
            "1   0.480129   0.540053   0.495571   0.650015   0.215696   0.299119   0.357821  \n",
            "2   0.451770   0.547830   0.451599   0.691834   0.205424   0.347357   0.338024  \n",
            "3   0.505335   0.567342   0.458453   0.597469   0.194146   0.389223   0.351704  \n",
            "4   0.543922   0.588277   0.357347   0.654486   0.227392   0.416176   0.314969  \n",
            "\n",
            "[5 rows x 526 columns]\n"
          ]
        }
      ],
      "source": [
        "from sklearn.preprocessing import MinMaxScaler\n",
        "\n",
        "# Initialize the scaler\n",
        "scaler = MinMaxScaler()\n",
        "\n",
        "# Normalize the features in X\n",
        "X_normalized = scaler.fit_transform(X)\n",
        "\n",
        "# Convert back to DataFrame if needed\n",
        "X_normalized = pd.DataFrame(X_normalized, columns=X.columns)\n",
        "\n",
        "print(X_normalized.head())\n"
      ]
    },
    {
      "cell_type": "code",
      "execution_count": null,
      "metadata": {
        "colab": {
          "background_save": true,
          "base_uri": "https://localhost:8080/"
        },
        "id": "6d0zsGlXgLDC",
        "outputId": "8c41a711-ab9c-4bcb-d11f-aa1a99ded7a6"
      },
      "outputs": [
        {
          "name": "stdout",
          "output_type": "stream",
          "text": [
            "       A:26-psi  A:26-phi  A:27-psi  A:27-phi  A:28-psi  A:28-phi  A:29-psi  \\\n",
            "0      0.853450  0.290814  0.326072  0.389339  0.396350  0.354144  0.664139   \n",
            "1      0.869060  0.225552  0.411661  0.364491  0.431928  0.259969  0.596379   \n",
            "2      0.835840  0.275676  0.446091  0.314928  0.442038  0.260005  0.617419   \n",
            "3      0.865207  0.271651  0.390027  0.372576  0.422853  0.274625  0.591569   \n",
            "4      0.837445  0.281147  0.406722  0.339346  0.385970  0.282595  0.638488   \n",
            "...         ...       ...       ...       ...       ...       ...       ...   \n",
            "69995  0.926334  0.126977  0.870927  0.317401  0.495733  0.194502  0.705865   \n",
            "69996  0.927281  0.164740  0.820731  0.302880  0.472323  0.222877  0.757175   \n",
            "69997  0.881604  0.285256  0.405975  0.298412  0.412516  0.264304  0.733219   \n",
            "69998  0.850144  0.374678  0.421843  0.307368  0.432246  0.258599  0.728369   \n",
            "69999  0.813283  0.285726  0.438800  0.340043  0.429503  0.213166  0.671210   \n",
            "\n",
            "       A:29-phi  A:30-psi  A:30-phi  ...  A:286-psi  A:286-phi  A:287-psi  \\\n",
            "0      0.542730  0.596728  0.320386  ...   0.556046   0.361792   0.492823   \n",
            "1      0.526030  0.658471  0.376523  ...   0.515322   0.373419   0.495446   \n",
            "2      0.394325  0.635102  0.448278  ...   0.592771   0.326014   0.529994   \n",
            "3      0.549371  0.585059  0.419625  ...   0.575260   0.339348   0.581841   \n",
            "4      0.616842  0.566553  0.386201  ...   0.595311   0.301244   0.583424   \n",
            "...         ...       ...       ...  ...        ...        ...        ...   \n",
            "69995  0.487101  0.658253  0.393137  ...   0.567567   0.312502   0.571478   \n",
            "69996  0.546006  0.743982  0.331485  ...   0.614649   0.271994   0.593589   \n",
            "69997  0.574422  0.607710  0.382015  ...   0.621722   0.303524   0.512032   \n",
            "69998  0.526644  0.675616  0.427864  ...   0.632137   0.341091   0.510592   \n",
            "69999  0.582280  0.666588  0.391882  ...   0.570243   0.300327   0.482322   \n",
            "\n",
            "       A:287-phi  A:288-psi  A:288-phi  A:289-psi  A:289-phi  A:290-psi  \\\n",
            "0       0.544998   0.499646   0.408973   0.603408   0.289080   0.360224   \n",
            "1       0.480129   0.540053   0.495571   0.650015   0.215696   0.299119   \n",
            "2       0.451770   0.547830   0.451599   0.691834   0.205424   0.347357   \n",
            "3       0.505335   0.567342   0.458453   0.597469   0.194146   0.389223   \n",
            "4       0.543922   0.588277   0.357347   0.654486   0.227392   0.416176   \n",
            "...          ...        ...        ...        ...        ...        ...   \n",
            "69995   0.435552   0.495112   0.501537   0.437538   0.367966   0.337343   \n",
            "69996   0.438557   0.522882   0.426960   0.445626   0.359457   0.384663   \n",
            "69997   0.416000   0.528527   0.411715   0.566776   0.308196   0.363947   \n",
            "69998   0.433841   0.571424   0.424064   0.613001   0.248885   0.367971   \n",
            "69999   0.510178   0.569732   0.478708   0.582834   0.277302   0.368824   \n",
            "\n",
            "       A:290-phi  \n",
            "0       0.359643  \n",
            "1       0.357821  \n",
            "2       0.338024  \n",
            "3       0.351704  \n",
            "4       0.314969  \n",
            "...          ...  \n",
            "69995   0.326764  \n",
            "69996   0.279867  \n",
            "69997   0.281245  \n",
            "69998   0.278750  \n",
            "69999   0.226187  \n",
            "\n",
            "[70000 rows x 526 columns]\n",
            "Target variable:\n",
            "0        0\n",
            "1        0\n",
            "2        0\n",
            "3        0\n",
            "4        0\n",
            "        ..\n",
            "69995    0\n",
            "69996    0\n",
            "69997    0\n",
            "69998    0\n",
            "69999    0\n",
            "Name: GROUP, Length: 70000, dtype: int64\n"
          ]
        }
      ],
      "source": [
        "print(X_normalized)\n",
        "print(\"Target variable:\")\n",
        "print(y)"
      ]
    },
    {
      "cell_type": "code",
      "execution_count": null,
      "metadata": {
        "colab": {
          "background_save": true
        },
        "id": "Sce6ILhcgfHa"
      },
      "outputs": [],
      "source": [
        "# Initialize and train the RandomForestClassifier\n",
        "rf_classifier = RandomForestClassifier(n_estimators=100, random_state=42)\n",
        "rf_classifier.fit(X_normalized, y)\n",
        "\n",
        "# Get feature importances from the trained Random Forest model\n",
        "feature_importances = rf_classifier.feature_importances_"
      ]
    },
    {
      "cell_type": "code",
      "execution_count": null,
      "metadata": {
        "colab": {
          "background_save": true
        },
        "id": "1xUXfGZmcxBT",
        "outputId": "f2c87b0f-990f-459e-f424-9cbda379ccc8"
      },
      "outputs": [
        {
          "data": {
            "image/png": "[encoded data removed]",
            "text/plain": [
              "<Figure size 1000x600 with 1 Axes>"
            ]
          },
          "metadata": {},
          "output_type": "display_data"
        },
        {
          "name": "stdout",
          "output_type": "stream",
          "text": [
            "Model Accuracy: 0.92\n"
          ]
        }
      ],
      "source": [
        "# Get the column names (feature names) from the DataFrame\n",
        "feature_names = X_normalized.columns\n",
        "\n",
        "# Create a DataFrame for easier sorting and plotting\n",
        "feature_importance_df = pd.DataFrame({'Feature': feature_names, 'Importance': feature_importances})\n",
        "\n",
        "# Sort the DataFrame by Importance in descending order\n",
        "feature_importance_df = feature_importance_df.sort_values(by='Importance', ascending=False)\n",
        "\n",
        "# Take the top 15 variables\n",
        "top_features = feature_importance_df.head(15)\n",
        "\n",
        "# Plotting\n",
        "plt.figure(figsize=(10, 6))\n",
        "plt.barh(top_features['Feature'][::-1], top_features['Importance'][::-1], color='skyblue')\n",
        "plt.xlabel('Importance')\n",
        "plt.title('Top 15 Variable Importance in Random Forest Model')\n",
        "plt.grid(axis='x', linestyle='--', alpha=0.7)\n",
        "plt.show()\n",
        "\n",
        "# Evaluate model accuracy using cross-validation\n",
        "accuracy = cross_val_score(rf_classifier, X_normalized, y, cv=5).mean()\n",
        "print(f\"Model Accuracy: {accuracy:.2f}\")\n"
      ]
    },
    {
      "cell_type": "code",
      "execution_count": null,
      "metadata": {
        "colab": {
          "background_save": true
        },
        "id": "EsnWs6_XmG75",
        "outputId": "634db457-5aab-4a1f-bd1b-7eb6b53bc50e"
      },
      "outputs": [
        {
          "name": "stdout",
          "output_type": "stream",
          "text": [
            "R² values for each fold: [0.53858333 0.11391667 0.706      0.99970833 1.        ]\n",
            "Mean R²: 0.67\n"
          ]
        }
      ],
      "source": [
        "# Cross-validate R² scores\n",
        "r2_scores = cross_val_score(rf_classifier, X_normalized, y, cv=5, scoring=make_scorer(r2_score))\n",
        "\n",
        "print(\"R² values for each fold:\", r2_scores)\n",
        "print(f\"Mean R²: {r2_scores.mean():.2f}\")\n"
      ]
    },
    {
      "cell_type": "code",
      "execution_count": null,
      "metadata": {
        "id": "Wpjlq0LEmZVx"
      },
      "outputs": [],
      "source": [
        "\n",
        "# Train the model\n",
        "rf_regressor = RandomForestRegressor(n_estimators=100, random_state=42)\n",
        "rf_regressor.fit(X_normalized, y)\n",
        "\n",
        "# Make predictions\n",
        "y_pred = cross_val_predict(rf_regressor, X_normalized, y, cv=5)\n",
        "\n",
        "# Calculate the R^2 score\n",
        "r2 = r2_score(y, y_pred)\n",
        "print(f\"R² Value: {r2:.2f}\")\n",
        "\n",
        "# Scatter plot of true vs predicted values\n",
        "plt.figure(figsize=(8, 6))\n",
        "plt.scatter(y, y_pred, color='skyblue', edgecolor='k')\n",
        "plt.plot([min(y), max(y)], [min(y), max(y)], color='red', lw=2)  # Line of perfect prediction\n",
        "plt.xlabel('True Values')\n",
        "plt.ylabel('Predicted Values')\n",
        "plt.title('Scatter Plot of True vs Predicted Values (R²)')\n",
        "plt.grid(True, linestyle='--', alpha=0.6)\n",
        "plt.show()\n"
      ]
    }
  ],
  "metadata": {
    "accelerator": "GPU",
    "colab": {
      "gpuType": "T4",
      "provenance": []
    },
    "kernelspec": {
      "display_name": "Python 3",
      "name": "python3"
    },
    "language_info": {
      "name": "python"
    }
  },
  "nbformat": 4,
  "nbformat_minor": 0
}