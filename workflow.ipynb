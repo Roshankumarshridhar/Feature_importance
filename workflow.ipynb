# Step 1: Import Required Libraries
import numpy as np
import pandas as pd
import matplotlib.pyplot as plt
from sklearn.model_selection import train_test_split, cross_val_score
from sklearn.linear_model import LinearRegression
from sklearn.ensemble import RandomForestClassifier
from sklearn.svm import SVC
from sklearn.metrics import accuracy_score, f1_score, precision_score, recall_score
from imblearn.over_sampling import SMOTE
from sklearn.preprocessing import MinMaxScaler

# Step 2: Load and Preprocess the Dataset
data = pd.read_excel('WT_R_S.xlsx')

# Step 3: Encode Target Variable (Mapping 'S' to 0 and 'R' to 1)
data['GROUP'] = data['GROUP'].map({'S': 0, 'R': 1})

# Step 4: Select Features and Target Variable
X = data.drop(['GROUP', 'TYPE'], axis=1).iloc[:, :-4]  # Drop last 4 unnecessary columns
y = data['GROUP']

# Step 5: Normalize Features Using MinMaxScaler
scaler = MinMaxScaler()
X_normalized = scaler.fit_transform(X)

# Step 6: Balance Dataset Using SMOTE
smote = SMOTE(random_state=42)
X_resampled, y_resampled = smote.fit_resample(X_normalized, y)

# Step 7: Split the Balanced Dataset into Training and Testing Sets
X_train, X_test, y_train, y_test = train_test_split(X_resampled, y_resampled, test_size=0.2, random_state=42)

# Step 8: Initialize and Train Machine Learning Models
models = {
    "Linear Regression": LinearRegression(),
    "SVM": SVC(kernel='rbf'),
    "Random Forest": RandomForestClassifier(n_estimators=100, random_state=42)
}

# Step 9: Evaluate Models Using Accuracy, F1-score, Precision, and Recall
for name, model in models.items():
    model.fit(X_train, y_train)
    y_pred = model.predict(X_test)
    acc = accuracy_score(y_test, y_pred)
    f1 = f1_score(y_test, y_pred)
    precision = precision_score(y_test, y_pred)
    recall = recall_score(y_test, y_pred)

    print(f"{name} Performance:")
    print(f" - Accuracy: {acc:.2f}")
    print(f" - F1 Score: {f1:.2f}")
    print(f" - Precision: {precision:.2f}")
    print(f" - Recall: {recall:.2f}")
    print("-" * 40)

# Step 10: Feature Importance Using Random Forest
rf_classifier = RandomForestClassifier(n_estimators=100, random_state=42)
rf_classifier.fit(X_resampled, y_resampled)
feature_importances = rf_classifier.feature_importances_

# Step 11: Convert Feature Importance to DataFrame and Sort
feature_importance_df = pd.DataFrame({'Feature': X.columns, 'Importance': feature_importances})
feature_importance_df = feature_importance_df.sort_values(by='Importance', ascending=False)

# Step 12: Visualize the Top 15 Most Important Features
top_features = feature_importance_df.head(15)
plt.figure(figsize=(10, 6))
plt.barh(top_features['Feature'][::-1], top_features['Importance'][::-1], color='skyblue')
plt.xlabel('Importance')
plt.title('Top 15 Feature Importance in Random Forest Model')
plt.grid(axis='x', linestyle='--', alpha=0.7)
plt.show()
